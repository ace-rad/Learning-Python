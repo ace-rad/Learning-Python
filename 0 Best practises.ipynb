{
 "cells": [
  {
   "cell_type": "code",
   "execution_count": 1,
   "metadata": {},
   "outputs": [
    {
     "data": {
      "text/plain": [
       "'\\nDocstrings that go at the top of the file \\n\\nPurpose of this module is to practise the various elements.\\n\\nArgs: 0\\nReturns: Nuggets\\n\\n'"
      ]
     },
     "execution_count": 1,
     "metadata": {},
     "output_type": "execute_result"
    }
   ],
   "source": [
    "\"\"\"\n",
    "Docstrings that go at the top of the file \\n\\nPurpose of this module is to practise the various elements.\n",
    "\n",
    "Args: 0\n",
    "Returns: Nuggets\n",
    "\n",
    "\"\"\"\n",
    "\n",
    "#Noting that Jupyter prints these blocks out when a normal editor wouldn't"
   ]
  }
 ],
 "metadata": {
  "kernelspec": {
   "display_name": "Python 3",
   "language": "python",
   "name": "python3"
  },
  "language_info": {
   "codemirror_mode": {
    "name": "ipython",
    "version": 3
   },
   "file_extension": ".py",
   "mimetype": "text/x-python",
   "name": "python",
   "nbconvert_exporter": "python",
   "pygments_lexer": "ipython3",
   "version": "3.7.6"
  }
 },
 "nbformat": 4,
 "nbformat_minor": 4
}
