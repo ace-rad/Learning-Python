{
 "cells": [
  {
   "cell_type": "code",
   "execution_count": null,
   "metadata": {},
   "outputs": [],
   "source": [
    "\"\"\"Boolean, None and Falsy\n",
    "#1\n",
    "Python has logical operators for and and or \n",
    "Both initial capital True, False \n",
    "Can convert boolean to type integer but not the other way around \n",
    "\n",
    "bool() in Python\n",
    " - It returns True if the parameter or value passed is True.\n",
    " - It returns False if the parameter or value passed is False.\n",
    "\n",
    "#2 \n",
    "None is similar to null in other languages it denotes that a variable has been defined but nothing has been assigned or associated to it ?  Used for placeholders \n",
    "DOES NOT GET PRINTED TO THE REPL \n",
    "Notes, None Evaluates to false. If a variable is written in the ide an error will come up but it if a variable that has None assigned to it nothing will come up and there will be no error. \n",
    "\n",
    "#3\n",
    "0 is falsy, all other numbers are true. \n",
    "Boolean can be used to check if lists are empty\n",
    "\n",
    "\"\"\"\n",
    "\n",
    "#1\n",
    "python_course = True #Boolean declaration\n",
    "print(int(python_course)) #convert to type integer\n",
    "print(str(python_course)) #convert to type string\n",
    "#\"Answer: {0} Type: {1}\".format(str(python_course),str(python_course).type)\n",
    "print(bool(python_course)) #convert to type boolean? Notes says can't\n",
    "#print(typeT) boolean doesn't have a type in python but in sheets it's 4\n",
    "\n",
    "\n",
    "#2\n",
    "print(\"#2\")\n",
    "aliens_found = None\n",
    "print(bool(aliens_found))\n",
    "\n",
    "#3 0 is falsy, all other numbers are true.\n",
    "print(\"bool(0.0) = {0}\".format(bool(0.0)))\n",
    "print(\"bool(-1.117) = {0}\".format(bool(-1.117)))\n",
    "\n",
    "#Can check if lists are empty \n",
    "print(\"bool([]) = {0}\".format(bool([])))\n",
    "print(\"bool(bool([1,3,5])) = {0}\".format(bool([1,3,5])))\n",
    "    "
   ]
  },
  {
   "cell_type": "code",
   "execution_count": 2,
   "metadata": {},
   "outputs": [
    {
     "name": "stdout",
     "output_type": "stream",
     "text": [
      "smaller\n"
     ]
    }
   ],
   "source": [
    "\"\"\" Ternary if statements\"\"\"\n",
    "a = 1\n",
    "b = 2\n",
    "\n",
    "print(\"bigger\" if a > b else \"smaller\")\n"
   ]
  },
  {
   "cell_type": "markdown",
   "metadata": {},
   "source": [
    "#Elif\n",
    "\n",
    "Zen: Flat is better than nested \n",
    "\n",
    "Rather than if else if → if elif. "
   ]
  },
  {
   "cell_type": "code",
   "execution_count": null,
   "metadata": {},
   "outputs": [],
   "source": [
    "\"\"\"\n",
    "#1\n",
    "#2\n",
    "\"\"\"\n",
    "\n",
    "print(\"#1\") #1-----\n",
    "\n",
    "print(\"#2\") #2-----"
   ]
  },
  {
   "cell_type": "code",
   "execution_count": null,
   "metadata": {},
   "outputs": [],
   "source": [
    "\"\"\"\n",
    "#1\n",
    "#2\n",
    "\"\"\"\n",
    "\n",
    "print(\"#1\") #1-----\n",
    "\n",
    "print(\"#2\") #2-----"
   ]
  },
  {
   "cell_type": "markdown",
   "metadata": {},
   "source": [
    "## For Loop\n",
    "\n",
    "Use cases \n",
    " - Print list elements \n",
    " - For Loop (automates foreach) \n",
    " - Can use the range function (overall, start, increment inputs) \n",
    " - Parsing 2D arrays \n",
    "\n",
    " - :\n",
    "    • "
   ]
  },
  {
   "cell_type": "code",
   "execution_count": 11,
   "metadata": {},
   "outputs": [
    {
     "name": "stdout",
     "output_type": "stream",
     "text": [
      "#1 Basic\n",
      "Student name is James\n",
      "Student name is Katarina\n",
      "Student name is Jessica\n",
      "Student name is Mark\n",
      "Student name is Bort\n",
      "Student name is Frank Grimes\n",
      "Student name is Max Power\n",
      "\n",
      " #2 Parsing 2D arrays\n",
      "1\n",
      "2\n",
      "3\n",
      "4\n",
      "5\n",
      "6\n",
      "7\n",
      "8\n",
      "9\n",
      "0\n",
      "\n",
      " #3 For loop Break\n",
      "Currently testing James\n",
      "Currently testing Katarina\n",
      "Currently testing Jessica\n",
      "Found him! Mark\n",
      "\n",
      " #4 For loop Continue\n",
      "Currently testing James\n",
      "Currently testing Katarina\n",
      "Currently testing Jessica\n",
      "Currently testing Mark\n",
      "Found him! Bort\n",
      "Currently testing Frank Grimes\n",
      "Currently testing Max Power\n"
     ]
    }
   ],
   "source": [
    "print(\"#1 Basic\") #####################################\n",
    "\n",
    "\n",
    "student_names = (\"James\", \"Katarina\", \"Jessica\", \"Mark\", \"Bort\", \"Frank Grimes\",\n",
    "\"Max Power\")\n",
    "for name in student_names:\n",
    "    print(\"Student name is {0}\".format(name))\n",
    "\n",
    "print(\"\\n #2 Parsing 2D arrays\") #####################################\n",
    "\n",
    "number_grid = [\n",
    "    [1, 2, 3],\n",
    "    [4, 5, 6],\n",
    "    [7, 8, 9],\n",
    "    [0]]\n",
    "\n",
    "for row in number_grid:\n",
    "    for col in row:\n",
    "        print(col)\n",
    "\n",
    "print(\"\\n #3 For loop Break\") #####################################\n",
    "\n",
    "for name in student_names:\n",
    "    if name == \"Mark\":\n",
    "        print(\"Found him! \" + name)\n",
    "        break\n",
    "    print(\"Currently testing \" + name)\n",
    "\n",
    "print(\"\\n #4 For loop Continue\") #####################################\n",
    "\n",
    "#Skips follow actions if Bort is found.\n",
    "for name in student_names:\n",
    "    if name == \"Bort\":\n",
    "        continue\n",
    "        print(\"Found him! \" + name) #Note Since this line is after the continue statement it's not read\n",
    "        #continue\n",
    "    print(\"Currently testing \" + name)\n",
    "        "
   ]
  },
  {
   "cell_type": "markdown",
   "metadata": {},
   "source": [
    "## While Loop\n",
    "\n",
    "Usage Notes:\n",
    " - CHECK FOR a condition before they enter \n",
    " - Have to manually increment. \n",
    " - Note the += is known as an augmented assignment operator. \n",
    " - Customary to have the break early in the while block, because the while loops is like a dowhile in C++ \n",
    "   "
   ]
  },
  {
   "cell_type": "code",
   "execution_count": 12,
   "metadata": {},
   "outputs": [
    {
     "name": "stdout",
     "output_type": "stream",
     "text": [
      "#1 Basic\n",
      "Count is 0\n",
      "Count is 1\n",
      "Count is 2\n",
      "Count is 3\n",
      "Count is 4\n"
     ]
    },
    {
     "ename": "NameError",
     "evalue": "name 'p' is not defined",
     "output_type": "error",
     "traceback": [
      "\u001b[1;31m---------------------------------------------------------------------------\u001b[0m",
      "\u001b[1;31mNameError\u001b[0m                                 Traceback (most recent call last)",
      "\u001b[1;32m<ipython-input-12-72eb55ef7104>\u001b[0m in \u001b[0;36m<module>\u001b[1;34m\u001b[0m\n\u001b[0;32m      6\u001b[0m     \u001b[0mx\u001b[0m \u001b[1;33m+=\u001b[0m \u001b[1;36m1\u001b[0m\u001b[1;33m\u001b[0m\u001b[1;33m\u001b[0m\u001b[0m\n\u001b[0;32m      7\u001b[0m \u001b[1;33m\u001b[0m\u001b[0m\n\u001b[1;32m----> 8\u001b[1;33m \u001b[0mprint\u001b[0m\u001b[1;33m(\u001b[0m\u001b[0mp\u001b[0m\u001b[1;33m,\u001b[0m \u001b[1;34m\" - is type: \"\u001b[0m\u001b[1;33m,\u001b[0m \u001b[0mtype\u001b[0m\u001b[1;33m(\u001b[0m\u001b[0mp\u001b[0m\u001b[1;33m)\u001b[0m\u001b[1;33m,\u001b[0m\u001b[1;34m\"\\n\"\u001b[0m\u001b[1;33m)\u001b[0m\u001b[1;33m\u001b[0m\u001b[1;33m\u001b[0m\u001b[0m\n\u001b[0m\u001b[0;32m      9\u001b[0m \u001b[1;33m\u001b[0m\u001b[0m\n\u001b[0;32m     10\u001b[0m \u001b[1;31m#NOTE:\u001b[0m\u001b[1;33m\u001b[0m\u001b[1;33m\u001b[0m\u001b[1;33m\u001b[0m\u001b[0m\n",
      "\u001b[1;31mNameError\u001b[0m: name 'p' is not defined"
     ]
    }
   ],
   "source": [
    "print(\"#1 Basic\") #####################################\n",
    "\n",
    "x = 0 \n",
    "while x < 5:\n",
    "    print(\"Count is {0}\".format(x))\n",
    "    x += 1\n",
    "\n",
    "print(p, \" - is type: \", type(p),\"\\n\")\n",
    "\n",
    "#NOTE: "
   ]
  },
  {
   "cell_type": "markdown",
   "metadata": {},
   "source": [
    "## Header\n",
    "\n",
    "Usage Notes \n",
    " - \n",
    " - :\n",
    "    • "
   ]
  },
  {
   "cell_type": "code",
   "execution_count": null,
   "metadata": {},
   "outputs": [],
   "source": [
    "print(\"#1 Basic\") #####################################\n",
    "\n",
    "\n",
    "print(p, \" - is type: \", type(p),\"\\n\")\n",
    "\n",
    "#NOTE: "
   ]
  },
  {
   "cell_type": "markdown",
   "metadata": {},
   "source": [
    "## Header\n",
    "\n",
    "Usage Notes \n",
    " - \n",
    " - :\n",
    "    • "
   ]
  },
  {
   "cell_type": "code",
   "execution_count": null,
   "metadata": {},
   "outputs": [],
   "source": [
    "print(\"#1 Basic\") #####################################\n",
    "\n",
    "\n",
    "print(p, \" - is type: \", type(p),\"\\n\")\n",
    "\n",
    "#NOTE: "
   ]
  }
 ],
 "metadata": {
  "kernelspec": {
   "display_name": "Python 3",
   "language": "python",
   "name": "python3"
  },
  "language_info": {
   "codemirror_mode": {
    "name": "ipython",
    "version": 3
   },
   "file_extension": ".py",
   "mimetype": "text/x-python",
   "name": "python",
   "nbconvert_exporter": "python",
   "pygments_lexer": "ipython3",
   "version": "3.7.6"
  }
 },
 "nbformat": 4,
 "nbformat_minor": 4
}
